{
 "cells": [
  {
   "cell_type": "markdown",
   "metadata": {},
   "source": [
    "# Implementation of a CNN Fire module for SqueezeNet\n",
    "*by Marvin Bertin*\n",
    "<img src=\"../../images/keras-tensorflow-logo.jpg\" width=\"400\">"
   ]
  },
  {
   "cell_type": "markdown",
   "metadata": {},
   "source": [
    "# Imports"
   ]
  },
  {
   "cell_type": "code",
   "execution_count": 1,
   "metadata": {
    "collapsed": true
   },
   "outputs": [
    {
     "name": "stderr",
     "output_type": "stream",
     "text": [
      "2023-07-24 15:41:57.966969: I tensorflow/tsl/cuda/cudart_stub.cc:28] Could not find cuda drivers on your machine, GPU will not be used.\n",
      "2023-07-24 15:41:58.010982: I tensorflow/tsl/cuda/cudart_stub.cc:28] Could not find cuda drivers on your machine, GPU will not be used.\n",
      "2023-07-24 15:41:58.012132: I tensorflow/core/platform/cpu_feature_guard.cc:182] This TensorFlow binary is optimized to use available CPU instructions in performance-critical operations.\n",
      "To enable the following instructions: AVX2 FMA, in other operations, rebuild TensorFlow with the appropriate compiler flags.\n",
      "2023-07-24 15:41:59.246755: W tensorflow/compiler/tf2tensorrt/utils/py_utils.cc:38] TF-TRT Warning: Could not find TensorRT\n"
     ]
    }
   ],
   "source": [
    "from __future__ import absolute_import\n",
    "from __future__ import division\n",
    "from __future__ import print_function\n",
    "\n",
    "import tensorflow as tf\n",
    "import numpy as np"
   ]
  },
  {
   "cell_type": "code",
   "execution_count": 3,
   "metadata": {
    "collapsed": true
   },
   "outputs": [],
   "source": [
    "layers =  tf.keras.layers\n",
    "models = tf.keras.models"
   ]
  },
  {
   "cell_type": "markdown",
   "metadata": {},
   "source": [
    "# Implementation of Fire Module\n",
    "\n",
    "<img src=\"../../images/fire_module.png\" width=\"600\">"
   ]
  },
  {
   "cell_type": "code",
   "execution_count": 4,
   "metadata": {
    "collapsed": true
   },
   "outputs": [],
   "source": [
    "def fire_module(x, fire_id, squeeze=16, expand=64):\n",
    "    sq1x1 = \"squeeze1x1\"\n",
    "    exp1x1 = \"expand1x1\"\n",
    "    exp3x3 = \"expand3x3\"\n",
    "    relu = \"relu_\"\n",
    "    s_id = 'fire' + str(fire_id) + '/'\n",
    "\n",
    "    # Squeeze layer\n",
    "    x = layers.Convolution2D(squeeze, (1,1), padding='valid', name=s_id + sq1x1)(x)\n",
    "    x = layers.Activation('relu', name=s_id + relu + sq1x1)\n",
    "\n",
    "    # Expand layer 1x1 filters\n",
    "    left = layers.Convolution2D(expand, (1,1), padding='valid', name=s_id + exp1x1)(x)\n",
    "    left = layers.Activation('relu', name=s_id + relu + exp1x1)(left)\n",
    "\n",
    "    # Expand layer 3x3 filters\n",
    "    right = layers.Convolution2D(expand, (3,3), padding='same', name=s_id + exp3x3)(x)\n",
    "    right = layers.Activation('relu', name=s_id + relu + exp3x3)(right)\n",
    "\n",
    "    # concatenate outputs\n",
    "    x = layers.concatenate([left, right], axis=3, name=s_id + 'concat')\n",
    "\n",
    "    \n",
    "    return x"
   ]
  },
  {
   "cell_type": "markdown",
   "metadata": {},
   "source": [
    "# Implementation of SqueezeNet"
   ]
  },
  {
   "cell_type": "code",
   "execution_count": 5,
   "metadata": {
    "collapsed": true
   },
   "outputs": [],
   "source": [
    "def SqueezeNet(input_shape=(32,32,3), classes=10):\n",
    "    \n",
    "    img_input = layers.Input(shape=input_shape)\n",
    "    \n",
    "    x = layers.Convolution2D(64, (3, 3), strides=(2, 2), padding='valid', name='conv1')(img_input)\n",
    "    x = layers.Activation('relu', name='relu_conv1')(x)\n",
    "#     x = layers.MaxPooling2D(pool_size=(3, 3), strides=(2, 2), name='pool1')(x)\n",
    "\n",
    "    x = fire_module(x, fire_id=2, squeeze=16, expand=64)\n",
    "    x = fire_module(x, fire_id=3, squeeze=16, expand=64)\n",
    "    x = layers.MaxPooling2D(pool_size=(3, 3), strides=(2, 2), name='pool3')(x)\n",
    "\n",
    "    x = fire_module(x, fire_id=4, squeeze=32, expand=128)\n",
    "    x = fire_module(x, fire_id=5, squeeze=32, expand=128)\n",
    "    x = layers.Dropout(0.5, name='drop9')(x)\n",
    "\n",
    "    x = layers.Convolution2D(classes, (1, 1), padding='valid', name='conv10')(x)\n",
    "    x = layers.Activation('relu', name='relu_conv10')(x)\n",
    "    x = layers.GlobalAveragePooling2D()(x)\n",
    "    out = layers.Activation('softmax', name='loss')(x)\n",
    "\n",
    "    model = models.Model(img_input, out, name='squeezenet')\n",
    "\n",
    "    return model"
   ]
  },
  {
   "cell_type": "markdown",
   "metadata": {},
   "source": [
    "# Inspect SqueezeNet Architecture"
   ]
  },
  {
   "cell_type": "code",
   "execution_count": 6,
   "metadata": {},
   "outputs": [
    {
     "ename": "TypeError",
     "evalue": "Inputs to a layer should be tensors. Got '<keras.layers.core.activation.Activation object at 0x55556476df70>' (of type <class 'keras.layers.core.activation.Activation'>) as input for layer 'fire2/expand1x1'.",
     "output_type": "error",
     "traceback": [
      "\u001b[0;31m---------------------------------------------------------------------------\u001b[0m",
      "\u001b[0;31mTypeError\u001b[0m                                 Traceback (most recent call last)",
      "Cell \u001b[0;32mIn[6], line 1\u001b[0m\n\u001b[0;32m----> 1\u001b[0m squeeze_net \u001b[39m=\u001b[39m SqueezeNet()\n\u001b[1;32m      2\u001b[0m squeeze_net\u001b[39m.\u001b[39msummary()\n",
      "Cell \u001b[0;32mIn[5], line 9\u001b[0m, in \u001b[0;36mSqueezeNet\u001b[0;34m(input_shape, classes)\u001b[0m\n\u001b[1;32m      6\u001b[0m     x \u001b[39m=\u001b[39m layers\u001b[39m.\u001b[39mActivation(\u001b[39m'\u001b[39m\u001b[39mrelu\u001b[39m\u001b[39m'\u001b[39m, name\u001b[39m=\u001b[39m\u001b[39m'\u001b[39m\u001b[39mrelu_conv1\u001b[39m\u001b[39m'\u001b[39m)(x)\n\u001b[1;32m      7\u001b[0m \u001b[39m#     x = layers.MaxPooling2D(pool_size=(3, 3), strides=(2, 2), name='pool1')(x)\u001b[39;00m\n\u001b[0;32m----> 9\u001b[0m     x \u001b[39m=\u001b[39m fire_module(x, fire_id\u001b[39m=\u001b[39;49m\u001b[39m2\u001b[39;49m, squeeze\u001b[39m=\u001b[39;49m\u001b[39m16\u001b[39;49m, expand\u001b[39m=\u001b[39;49m\u001b[39m64\u001b[39;49m)\n\u001b[1;32m     10\u001b[0m     x \u001b[39m=\u001b[39m fire_module(x, fire_id\u001b[39m=\u001b[39m\u001b[39m3\u001b[39m, squeeze\u001b[39m=\u001b[39m\u001b[39m16\u001b[39m, expand\u001b[39m=\u001b[39m\u001b[39m64\u001b[39m)\n\u001b[1;32m     11\u001b[0m     x \u001b[39m=\u001b[39m layers\u001b[39m.\u001b[39mMaxPooling2D(pool_size\u001b[39m=\u001b[39m(\u001b[39m3\u001b[39m, \u001b[39m3\u001b[39m), strides\u001b[39m=\u001b[39m(\u001b[39m2\u001b[39m, \u001b[39m2\u001b[39m), name\u001b[39m=\u001b[39m\u001b[39m'\u001b[39m\u001b[39mpool3\u001b[39m\u001b[39m'\u001b[39m)(x)\n",
      "Cell \u001b[0;32mIn[4], line 13\u001b[0m, in \u001b[0;36mfire_module\u001b[0;34m(x, fire_id, squeeze, expand)\u001b[0m\n\u001b[1;32m     10\u001b[0m x \u001b[39m=\u001b[39m layers\u001b[39m.\u001b[39mActivation(\u001b[39m'\u001b[39m\u001b[39mrelu\u001b[39m\u001b[39m'\u001b[39m, name\u001b[39m=\u001b[39ms_id \u001b[39m+\u001b[39m relu \u001b[39m+\u001b[39m sq1x1)\n\u001b[1;32m     12\u001b[0m \u001b[39m# Expand layer 1x1 filters\u001b[39;00m\n\u001b[0;32m---> 13\u001b[0m left \u001b[39m=\u001b[39m layers\u001b[39m.\u001b[39;49mConvolution2D(expand, (\u001b[39m1\u001b[39;49m,\u001b[39m1\u001b[39;49m), padding\u001b[39m=\u001b[39;49m\u001b[39m'\u001b[39;49m\u001b[39mvalid\u001b[39;49m\u001b[39m'\u001b[39;49m, name\u001b[39m=\u001b[39;49ms_id \u001b[39m+\u001b[39;49m exp1x1)(x)\n\u001b[1;32m     14\u001b[0m left \u001b[39m=\u001b[39m layers\u001b[39m.\u001b[39mActivation(\u001b[39m'\u001b[39m\u001b[39mrelu\u001b[39m\u001b[39m'\u001b[39m, name\u001b[39m=\u001b[39ms_id \u001b[39m+\u001b[39m relu \u001b[39m+\u001b[39m exp1x1)(left)\n\u001b[1;32m     16\u001b[0m \u001b[39m# Expand layer 3x3 filters\u001b[39;00m\n",
      "File \u001b[0;32m~/anaconda3/lib/python3.9/site-packages/keras/utils/traceback_utils.py:70\u001b[0m, in \u001b[0;36mfilter_traceback.<locals>.error_handler\u001b[0;34m(*args, **kwargs)\u001b[0m\n\u001b[1;32m     67\u001b[0m     filtered_tb \u001b[39m=\u001b[39m _process_traceback_frames(e\u001b[39m.\u001b[39m__traceback__)\n\u001b[1;32m     68\u001b[0m     \u001b[39m# To get the full stack trace, call:\u001b[39;00m\n\u001b[1;32m     69\u001b[0m     \u001b[39m# `tf.debugging.disable_traceback_filtering()`\u001b[39;00m\n\u001b[0;32m---> 70\u001b[0m     \u001b[39mraise\u001b[39;00m e\u001b[39m.\u001b[39mwith_traceback(filtered_tb) \u001b[39mfrom\u001b[39;00m \u001b[39mNone\u001b[39;00m\n\u001b[1;32m     71\u001b[0m \u001b[39mfinally\u001b[39;00m:\n\u001b[1;32m     72\u001b[0m     \u001b[39mdel\u001b[39;00m filtered_tb\n",
      "File \u001b[0;32m~/anaconda3/lib/python3.9/site-packages/keras/engine/input_spec.py:213\u001b[0m, in \u001b[0;36massert_input_compatibility\u001b[0;34m(input_spec, inputs, layer_name)\u001b[0m\n\u001b[1;32m    207\u001b[0m \u001b[39mfor\u001b[39;00m x \u001b[39min\u001b[39;00m inputs:\n\u001b[1;32m    208\u001b[0m     \u001b[39m# Having a shape/dtype is the only commonality of the various\u001b[39;00m\n\u001b[1;32m    209\u001b[0m     \u001b[39m# tensor-like objects that may be passed. The most common kind of\u001b[39;00m\n\u001b[1;32m    210\u001b[0m     \u001b[39m# invalid type we are guarding for is a Layer instance (Functional API),\u001b[39;00m\n\u001b[1;32m    211\u001b[0m     \u001b[39m# which does not have a `shape` attribute.\u001b[39;00m\n\u001b[1;32m    212\u001b[0m     \u001b[39mif\u001b[39;00m \u001b[39mnot\u001b[39;00m \u001b[39mhasattr\u001b[39m(x, \u001b[39m\"\u001b[39m\u001b[39mshape\u001b[39m\u001b[39m\"\u001b[39m):\n\u001b[0;32m--> 213\u001b[0m         \u001b[39mraise\u001b[39;00m \u001b[39mTypeError\u001b[39;00m(\n\u001b[1;32m    214\u001b[0m             \u001b[39mf\u001b[39m\u001b[39m\"\u001b[39m\u001b[39mInputs to a layer should be tensors. Got \u001b[39m\u001b[39m'\u001b[39m\u001b[39m{\u001b[39;00mx\u001b[39m}\u001b[39;00m\u001b[39m'\u001b[39m\u001b[39m \u001b[39m\u001b[39m\"\u001b[39m\n\u001b[1;32m    215\u001b[0m             \u001b[39mf\u001b[39m\u001b[39m\"\u001b[39m\u001b[39m(of type \u001b[39m\u001b[39m{\u001b[39;00m\u001b[39mtype\u001b[39m(x)\u001b[39m}\u001b[39;00m\u001b[39m) as input for layer \u001b[39m\u001b[39m'\u001b[39m\u001b[39m{\u001b[39;00mlayer_name\u001b[39m}\u001b[39;00m\u001b[39m'\u001b[39m\u001b[39m.\u001b[39m\u001b[39m\"\u001b[39m\n\u001b[1;32m    216\u001b[0m         )\n\u001b[1;32m    218\u001b[0m \u001b[39mif\u001b[39;00m \u001b[39mlen\u001b[39m(inputs) \u001b[39m!=\u001b[39m \u001b[39mlen\u001b[39m(input_spec):\n\u001b[1;32m    219\u001b[0m     \u001b[39mraise\u001b[39;00m \u001b[39mValueError\u001b[39;00m(\n\u001b[1;32m    220\u001b[0m         \u001b[39mf\u001b[39m\u001b[39m'\u001b[39m\u001b[39mLayer \u001b[39m\u001b[39m\"\u001b[39m\u001b[39m{\u001b[39;00mlayer_name\u001b[39m}\u001b[39;00m\u001b[39m\"\u001b[39m\u001b[39m expects \u001b[39m\u001b[39m{\u001b[39;00m\u001b[39mlen\u001b[39m(input_spec)\u001b[39m}\u001b[39;00m\u001b[39m input(s),\u001b[39m\u001b[39m'\u001b[39m\n\u001b[1;32m    221\u001b[0m         \u001b[39mf\u001b[39m\u001b[39m\"\u001b[39m\u001b[39m but it received \u001b[39m\u001b[39m{\u001b[39;00m\u001b[39mlen\u001b[39m(inputs)\u001b[39m}\u001b[39;00m\u001b[39m input tensors. \u001b[39m\u001b[39m\"\u001b[39m\n\u001b[1;32m    222\u001b[0m         \u001b[39mf\u001b[39m\u001b[39m\"\u001b[39m\u001b[39mInputs received: \u001b[39m\u001b[39m{\u001b[39;00minputs\u001b[39m}\u001b[39;00m\u001b[39m\"\u001b[39m\n\u001b[1;32m    223\u001b[0m     )\n",
      "\u001b[0;31mTypeError\u001b[0m: Inputs to a layer should be tensors. Got '<keras.layers.core.activation.Activation object at 0x55556476df70>' (of type <class 'keras.layers.core.activation.Activation'>) as input for layer 'fire2/expand1x1'."
     ]
    }
   ],
   "source": [
    "squeeze_net = SqueezeNet()\n",
    "squeeze_net.summary()"
   ]
  },
  {
   "cell_type": "markdown",
   "metadata": {},
   "source": [
    "## Next Lesson\n",
    "### Train and Evaluate SqueezeNet\n",
    "- Image classification task with Cifar10\n",
    "\n",
    "<img src=\"../../images/divider.png\" width=\"100\">"
   ]
  }
 ],
 "metadata": {
  "anaconda-cloud": {},
  "kernelspec": {
   "display_name": "Python 3 with Fil",
   "language": "python",
   "name": "filprofile"
  },
  "language_info": {
   "codemirror_mode": {
    "name": "ipython",
    "version": 3
   },
   "file_extension": ".py",
   "mimetype": "text/x-python",
   "name": "python",
   "nbconvert_exporter": "python",
   "pygments_lexer": "ipython3",
   "version": "3.9.12"
  }
 },
 "nbformat": 4,
 "nbformat_minor": 2
}
