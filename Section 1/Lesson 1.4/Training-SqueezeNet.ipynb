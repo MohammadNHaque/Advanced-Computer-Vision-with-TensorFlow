{
 "cells": [
  {
   "cell_type": "markdown",
   "metadata": {},
   "source": [
    "# Train and Evaluate SqueezeNet on Cifar10 Dataset\n",
    "*by Marvin Bertin*\n",
    "<img src=\"../../images/keras-tensorflow-logo.jpg\" width=\"400\">"
   ]
  },
  {
   "cell_type": "markdown",
   "metadata": {},
   "source": [
    "# Imports"
   ]
  },
  {
   "cell_type": "code",
   "execution_count": 1,
   "metadata": {
    "collapsed": true
   },
   "outputs": [
    {
     "name": "stderr",
     "output_type": "stream",
     "text": [
      "2023-07-24 15:44:19.348008: I tensorflow/tsl/cuda/cudart_stub.cc:28] Could not find cuda drivers on your machine, GPU will not be used.\n",
      "2023-07-24 15:44:19.456368: I tensorflow/tsl/cuda/cudart_stub.cc:28] Could not find cuda drivers on your machine, GPU will not be used.\n",
      "2023-07-24 15:44:19.462882: I tensorflow/core/platform/cpu_feature_guard.cc:182] This TensorFlow binary is optimized to use available CPU instructions in performance-critical operations.\n",
      "To enable the following instructions: AVX2 FMA, in other operations, rebuild TensorFlow with the appropriate compiler flags.\n",
      "2023-07-24 15:44:20.989174: W tensorflow/compiler/tf2tensorrt/utils/py_utils.cc:38] TF-TRT Warning: Could not find TensorRT\n"
     ]
    }
   ],
   "source": [
    "from __future__ import absolute_import\n",
    "from __future__ import division\n",
    "from __future__ import print_function\n",
    "\n",
    "import tensorflow as tf\n",
    "import matplotlib\n",
    "import matplotlib.pyplot as plt\n",
    "import numpy as np"
   ]
  },
  {
   "cell_type": "code",
   "execution_count": 2,
   "metadata": {
    "collapsed": true
   },
   "outputs": [],
   "source": [
    "datasets = tf.keras.datasets\n",
    "layers =  tf.keras.layers\n",
    "models = tf.keras.models\n",
    "losses = tf.keras.losses\n",
    "optimizers = tf.keras.optimizers \n",
    "metrics = tf.keras.metrics\n",
    "preprocessing_image = tf.keras.preprocessing.image\n",
    "utils = tf.keras.utils\n",
    "callbacks = tf.keras.callbacks"
   ]
  },
  {
   "cell_type": "markdown",
   "metadata": {},
   "source": [
    "# Load Cifar10 Datset"
   ]
  },
  {
   "cell_type": "code",
   "execution_count": 3,
   "metadata": {
    "collapsed": true
   },
   "outputs": [],
   "source": [
    "(x_train, y_train), (x_test, y_test)= datasets.cifar10.load_data()"
   ]
  },
  {
   "cell_type": "markdown",
   "metadata": {},
   "source": [
    "# Image Preprocessing and Augmentation"
   ]
  },
  {
   "cell_type": "code",
   "execution_count": 4,
   "metadata": {},
   "outputs": [],
   "source": [
    "train_datagen = preprocessing_image.ImageDataGenerator(\n",
    "    rescale=1./255,\n",
    "    shear_range=0.1,\n",
    "    zoom_range=0.1,\n",
    "    horizontal_flip=True)\n",
    "\n",
    "test_datagen = preprocessing_image.ImageDataGenerator(rescale=1./255)"
   ]
  },
  {
   "cell_type": "markdown",
   "metadata": {},
   "source": [
    "# One Hot Encoding of Target Vector"
   ]
  },
  {
   "cell_type": "code",
   "execution_count": 5,
   "metadata": {
    "collapsed": true
   },
   "outputs": [],
   "source": [
    "y_train = utils.to_categorical(y_train, num_classes=10)\n",
    "y_test = utils.to_categorical(y_test, num_classes=10)\n"
   ]
  },
  {
   "cell_type": "markdown",
   "metadata": {},
   "source": [
    "# Data Generator"
   ]
  },
  {
   "cell_type": "code",
   "execution_count": 6,
   "metadata": {
    "collapsed": true
   },
   "outputs": [],
   "source": [
    "train_generator = train_datagen.flow(x=x_train, y=y_train, batch_size=32, shuffle=True)\n",
    "\n",
    "test_generator = test_datagen.flow(x=x_test, y=y_test, batch_size=32, shuffle=True)"
   ]
  },
  {
   "cell_type": "markdown",
   "metadata": {
    "collapsed": true
   },
   "source": [
    "# SqueezeNet Model"
   ]
  },
  {
   "cell_type": "code",
   "execution_count": 7,
   "metadata": {
    "collapsed": true
   },
   "outputs": [],
   "source": [
    "def fire_module(x, fire_id, squeeze=16, expand=64):\n",
    "    sq1x1 = \"squeeze1x1\"\n",
    "    exp1x1 = \"expand1x1\"\n",
    "    exp3x3 = \"expand3x3\"\n",
    "    relu = \"relu_\"\n",
    "    s_id = 'fire' + str(fire_id) + '/'\n",
    "\n",
    "    channel_axis = 3\n",
    "\n",
    "    x = layers.Convolution2D(squeeze, (1, 1), padding='valid', name=s_id + sq1x1)(x)\n",
    "    x = layers.Activation('relu', name=s_id + relu + sq1x1)(x)\n",
    "\n",
    "    left = layers.Convolution2D(expand, (1, 1), padding='valid', name=s_id + exp1x1)(x)\n",
    "    left = layers.Activation('relu', name=s_id + relu + exp1x1)(left)\n",
    "\n",
    "    right = layers.Convolution2D(expand, (3, 3), padding='same', name=s_id + exp3x3)(x)\n",
    "    right = layers.Activation('relu', name=s_id + relu + exp3x3)(right)\n",
    "\n",
    "    x = layers.concatenate([left, right], axis=channel_axis, name=s_id + 'concat')\n",
    "    return x\n",
    "\n",
    "def SqueezeNet(input_shape=(32,32,3), classes=10):\n",
    "\n",
    "    img_input = layers.Input(shape=input_shape)\n",
    "\n",
    "\n",
    "    x = layers.Convolution2D(64, (3, 3), strides=(2, 2), padding='valid', name='conv1')(img_input)\n",
    "    x = layers.Activation('relu', name='relu_conv1')(x)\n",
    "#     x = layers.MaxPooling2D(pool_size=(3, 3), strides=(2, 2), name='pool1')(x)\n",
    "\n",
    "    x = fire_module(x, fire_id=2, squeeze=16, expand=64)\n",
    "    x = fire_module(x, fire_id=3, squeeze=16, expand=64)\n",
    "    x = layers.MaxPooling2D(pool_size=(3, 3), strides=(2, 2), name='pool3')(x)\n",
    "\n",
    "    x = fire_module(x, fire_id=4, squeeze=32, expand=128)\n",
    "    x = fire_module(x, fire_id=5, squeeze=32, expand=128)\n",
    "    x = layers.Dropout(0.5, name='drop9')(x)\n",
    "\n",
    "    x = layers.Convolution2D(classes, (1, 1), padding='valid', name='conv10')(x)\n",
    "    x = layers.Activation('relu', name='relu_conv10')(x)\n",
    "    x = layers.GlobalAveragePooling2D()(x)\n",
    "    out = layers.Activation('softmax', name='loss')(x)\n",
    "\n",
    "    model = models.Model(img_input, out, name='squeezenet')\n",
    "\n",
    "    return model"
   ]
  },
  {
   "cell_type": "markdown",
   "metadata": {},
   "source": [
    "# Compile Model"
   ]
  },
  {
   "cell_type": "code",
   "execution_count": 8,
   "metadata": {
    "collapsed": true
   },
   "outputs": [],
   "source": [
    "def compile_model(model):\n",
    "    \n",
    "    # loss\n",
    "    loss = losses.categorical_crossentropy\n",
    "    \n",
    "    # optimizer\n",
    "    optimizer = optimizers.RMSprop(lr=0.0001)\n",
    "    \n",
    "    # metrics\n",
    "    metric = [metrics.categorical_accuracy, metrics.top_k_categorical_accuracy]\n",
    "    \n",
    "    # compile model with loss, optimizer, and evaluation metrics\n",
    "    model.compile(optimizer, loss, metric)\n",
    "    \n",
    "    return model"
   ]
  },
  {
   "cell_type": "markdown",
   "metadata": {},
   "source": [
    "# Train Model on Cifar10"
   ]
  },
  {
   "cell_type": "code",
   "execution_count": 9,
   "metadata": {
    "scrolled": false
   },
   "outputs": [
    {
     "name": "stderr",
     "output_type": "stream",
     "text": [
      "WARNING:absl:`lr` is deprecated in Keras optimizer, please use `learning_rate` or use the legacy optimizer, e.g.,tf.keras.optimizers.legacy.RMSprop.\n"
     ]
    }
   ],
   "source": [
    "sn = SqueezeNet()\n",
    "sn = compile_model(sn)"
   ]
  },
  {
   "cell_type": "code",
   "execution_count": 10,
   "metadata": {},
   "outputs": [
    {
     "name": "stdout",
     "output_type": "stream",
     "text": [
      "Epoch 1/10\n"
     ]
    },
    {
     "name": "stderr",
     "output_type": "stream",
     "text": [
      "/tmp/ipykernel_10964/1905626917.py:1: UserWarning: `Model.fit_generator` is deprecated and will be removed in a future version. Please use `Model.fit`, which supports generators.\n",
      "  history = sn.fit_generator(\n",
      "2023-07-24 15:44:31.878429: I tensorflow/core/common_runtime/executor.cc:1197] [/device:CPU:0] (DEBUG INFO) Executor start aborting (this does not indicate an error and you can ignore this message): INVALID_ARGUMENT: You must feed a value for placeholder tensor 'Placeholder/_0' with dtype int32\n",
      "\t [[{{node Placeholder/_0}}]]\n"
     ]
    },
    {
     "name": "stdout",
     "output_type": "stream",
     "text": [
      "400/400 [==============================] - ETA: 0s - loss: 2.2161 - categorical_accuracy: 0.1521 - top_k_categorical_accuracy: 0.6721"
     ]
    },
    {
     "name": "stderr",
     "output_type": "stream",
     "text": [
      "2023-07-24 15:45:01.544897: I tensorflow/core/common_runtime/executor.cc:1197] [/device:CPU:0] (DEBUG INFO) Executor start aborting (this does not indicate an error and you can ignore this message): INVALID_ARGUMENT: You must feed a value for placeholder tensor 'Placeholder/_0' with dtype int32\n",
      "\t [[{{node Placeholder/_0}}]]\n"
     ]
    },
    {
     "name": "stdout",
     "output_type": "stream",
     "text": [
      "400/400 [==============================] - 33s 80ms/step - loss: 2.2161 - categorical_accuracy: 0.1521 - top_k_categorical_accuracy: 0.6721 - val_loss: 2.2179 - val_categorical_accuracy: 0.2067 - val_top_k_categorical_accuracy: 0.6995\n",
      "Epoch 2/10\n",
      "400/400 [==============================] - 24s 58ms/step - loss: 1.9968 - categorical_accuracy: 0.2532 - top_k_categorical_accuracy: 0.7884 - val_loss: 1.8723 - val_categorical_accuracy: 0.2958 - val_top_k_categorical_accuracy: 0.8238\n",
      "Epoch 3/10\n",
      "400/400 [==============================] - 23s 57ms/step - loss: 1.8563 - categorical_accuracy: 0.3016 - top_k_categorical_accuracy: 0.8391 - val_loss: 1.7250 - val_categorical_accuracy: 0.3400 - val_top_k_categorical_accuracy: 0.8755\n",
      "Epoch 4/10\n",
      "400/400 [==============================] - 23s 59ms/step - loss: 1.7257 - categorical_accuracy: 0.3510 - top_k_categorical_accuracy: 0.8716 - val_loss: 1.5846 - val_categorical_accuracy: 0.3964 - val_top_k_categorical_accuracy: 0.9003\n",
      "Epoch 5/10\n",
      "400/400 [==============================] - 19s 48ms/step - loss: 1.6331 - categorical_accuracy: 0.3947 - top_k_categorical_accuracy: 0.8906 - val_loss: 1.5740 - val_categorical_accuracy: 0.4241 - val_top_k_categorical_accuracy: 0.9130\n",
      "Epoch 6/10\n",
      "400/400 [==============================] - 19s 49ms/step - loss: 1.5672 - categorical_accuracy: 0.4207 - top_k_categorical_accuracy: 0.9078 - val_loss: 1.4763 - val_categorical_accuracy: 0.4606 - val_top_k_categorical_accuracy: 0.9231\n",
      "Epoch 7/10\n",
      "400/400 [==============================] - 25s 63ms/step - loss: 1.5031 - categorical_accuracy: 0.4451 - top_k_categorical_accuracy: 0.9180 - val_loss: 1.3994 - val_categorical_accuracy: 0.4863 - val_top_k_categorical_accuracy: 0.9252\n",
      "Epoch 8/10\n",
      "400/400 [==============================] - 21s 53ms/step - loss: 1.4400 - categorical_accuracy: 0.4712 - top_k_categorical_accuracy: 0.9256 - val_loss: 1.3842 - val_categorical_accuracy: 0.4769 - val_top_k_categorical_accuracy: 0.9342\n",
      "Epoch 9/10\n",
      "400/400 [==============================] - 23s 58ms/step - loss: 1.3965 - categorical_accuracy: 0.4916 - top_k_categorical_accuracy: 0.9308 - val_loss: 1.3745 - val_categorical_accuracy: 0.4891 - val_top_k_categorical_accuracy: 0.9320\n",
      "Epoch 10/10\n",
      "400/400 [==============================] - 22s 56ms/step - loss: 1.3489 - categorical_accuracy: 0.5053 - top_k_categorical_accuracy: 0.9395 - val_loss: 1.2585 - val_categorical_accuracy: 0.5425 - val_top_k_categorical_accuracy: 0.9459\n"
     ]
    }
   ],
   "source": [
    "history = sn.fit_generator(\n",
    "    train_generator,\n",
    "    steps_per_epoch=400,\n",
    "    epochs=10,\n",
    "    validation_data=test_generator,\n",
    "    validation_steps=200)"
   ]
  },
  {
   "cell_type": "markdown",
   "metadata": {},
   "source": [
    "# Plot Accuracy and Loss Over Time"
   ]
  },
  {
   "cell_type": "code",
   "execution_count": 11,
   "metadata": {
    "collapsed": true
   },
   "outputs": [],
   "source": [
    "def plot_accuracy_and_loss(history):\n",
    "    plt.figure(1, figsize= (15, 10))\n",
    "    \n",
    "    # plot train and test accuracy\n",
    "    plt.subplot(221)\n",
    "    plt.plot(history.history['categorical_accuracy'])\n",
    "    plt.plot(history.history['val_categorical_accuracy'])\n",
    "    plt.title('SqueezeNet accuracy')\n",
    "    plt.ylabel('accuracy')\n",
    "    plt.xlabel('epoch')\n",
    "    plt.legend(['train', 'test'], loc='upper left')\n",
    "\n",
    "    # plot train and test loss\n",
    "    plt.subplot(222)\n",
    "    plt.plot(history.history['loss'])\n",
    "    plt.plot(history.history['val_loss'])\n",
    "    plt.title('SqueezeNet loss')\n",
    "    plt.ylabel('loss')\n",
    "    plt.xlabel('epoch')\n",
    "    plt.legend(['train', 'test'], loc='upper right')\n",
    "    \n",
    "    plt.show()"
   ]
  },
  {
   "cell_type": "code",
   "execution_count": 12,
   "metadata": {},
   "outputs": [
    {
     "data": {
      "image/png": "[encoded data removed]",
      "text/plain": [
       "<Figure size 1500x1000 with 2 Axes>"
      ]
     },
     "metadata": {},
     "output_type": "display_data"
    }
   ],
   "source": [
    "plot_accuracy_and_loss(history)"
   ]
  },
  {
   "cell_type": "markdown",
   "metadata": {},
   "source": [
    "# Save Model Configuration and Weights"
   ]
  },
  {
   "cell_type": "code",
   "execution_count": 13,
   "metadata": {},
   "outputs": [],
   "source": [
    "# save model architecture\n",
    "model_json = sn.to_json()\n",
    "open('squeeze_net_model.json', 'w').write(model_json)\n",
    "\n",
    "# save model's learned weights\n",
    "sn.save_weights('image_classifier_squeeze_net.h5', overwrite=True)"
   ]
  },
  {
   "cell_type": "markdown",
   "metadata": {
    "collapsed": true
   },
   "source": [
    "## Next Lesson\n",
    "### ResNet: Residual Learning for Image Recognition\n",
    "\n",
    "\n",
    "<img src=\"../../images/divider.png\" width=\"100\">"
   ]
  }
 ],
 "metadata": {
  "anaconda-cloud": {},
  "kernelspec": {
   "display_name": "Python 3 with Fil",
   "language": "python",
   "name": "filprofile"
  },
  "language_info": {
   "codemirror_mode": {
    "name": "ipython",
    "version": 3
   },
   "file_extension": ".py",
   "mimetype": "text/x-python",
   "name": "python",
   "nbconvert_exporter": "python",
   "pygments_lexer": "ipython3",
   "version": "3.9.12"
  }
 },
 "nbformat": 4,
 "nbformat_minor": 1
}
